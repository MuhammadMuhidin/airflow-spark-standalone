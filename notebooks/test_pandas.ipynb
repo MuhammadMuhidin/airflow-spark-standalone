{
 "cells": [
  {
   "cell_type": "code",
   "execution_count": 1,
   "id": "bec67592-6c0f-4d10-8267-1d5928fd6671",
   "metadata": {
    "tags": []
   },
   "outputs": [
    {
     "name": "stdout",
     "output_type": "stream",
     "text": [
      "Collecting pandas==2.2.3\n",
      "  Downloading pandas-2.2.3-cp310-cp310-manylinux_2_17_x86_64.manylinux2014_x86_64.whl (13.1 MB)\n",
      "\u001b[2K     \u001b[90m━━━━━━━━━━━━━━━━━━━━━━━━━━━━━━━━━━━━━━━━\u001b[0m \u001b[32m13.1/13.1 MB\u001b[0m \u001b[31m6.2 MB/s\u001b[0m eta \u001b[36m0:00:00\u001b[0m00:01\u001b[0m00:01\u001b[0m\n",
      "\u001b[?25hRequirement already satisfied: numpy>=1.22.4 in /opt/conda/lib/python3.10/site-packages (from pandas==2.2.3) (1.23.5)\n",
      "Requirement already satisfied: pytz>=2020.1 in /opt/conda/lib/python3.10/site-packages (from pandas==2.2.3) (2023.3)\n",
      "Requirement already satisfied: python-dateutil>=2.8.2 in /opt/conda/lib/python3.10/site-packages (from pandas==2.2.3) (2.8.2)\n",
      "Requirement already satisfied: tzdata>=2022.7 in /opt/conda/lib/python3.10/site-packages (from pandas==2.2.3) (2023.3)\n",
      "Requirement already satisfied: six>=1.5 in /opt/conda/lib/python3.10/site-packages (from python-dateutil>=2.8.2->pandas==2.2.3) (1.16.0)\n",
      "Installing collected packages: pandas\n",
      "  Attempting uninstall: pandas\n",
      "    Found existing installation: pandas 2.0.0\n",
      "    Uninstalling pandas-2.0.0:\n",
      "      Successfully uninstalled pandas-2.0.0\n",
      "Successfully installed pandas-2.2.3\n",
      "Note: you may need to restart the kernel to use updated packages.\n"
     ]
    }
   ],
   "source": [
    "pip install pandas==2.2.3"
   ]
  },
  {
   "cell_type": "code",
   "execution_count": 1,
   "id": "80333f00-1dd3-47d0-8910-44fe209301aa",
   "metadata": {
    "tags": []
   },
   "outputs": [],
   "source": [
    "import pandas as pd\n",
    "\n",
    "# Membaca setiap file CSV\n",
    "df_customer = pd.read_csv('/tmp/customers.csv')\n",
    "df_product = pd.read_csv('/tmp/products.csv')\n",
    "df_order = pd.read_csv('/tmp/orders.csv')\n",
    "df_shipping = pd.read_csv('/tmp/shippings.csv')\n",
    "df_payment = pd.read_csv('/tmp/payments.csv')\n",
    "df_return = pd.read_csv('/tmp/returns.csv')"
   ]
  },
  {
   "cell_type": "code",
   "execution_count": 11,
   "id": "7b2fed2a-ffdf-4d1e-b5db-46012a1dcd9a",
   "metadata": {
    "tags": []
   },
   "outputs": [
    {
     "name": "stdout",
     "output_type": "stream",
     "text": [
      "      quantity                  order_date first_name  last_name  \\\n",
      "0            6  2024-09-11 14:34:38.817532   Jennifer      Perez   \n",
      "1           10  2024-03-15 13:43:05.348458    Allison    Francis   \n",
      "2           10  2024-03-09 22:27:46.724114    Suzanne      Allen   \n",
      "3            2  2024-05-26 19:28:07.888524      Jenna   Williams   \n",
      "4            8  2024-01-26 19:18:47.673825     Jeremy  Rodriguez   \n",
      "...        ...                         ...        ...        ...   \n",
      "9995         6  2024-04-19 03:32:16.414973      Jamie      Rocha   \n",
      "9996         7  2024-04-28 13:24:17.426917     Connor      Smith   \n",
      "9997         7  2024-04-28 15:37:29.465257     Brenda     Austin   \n",
      "9998         2  2024-08-18 15:11:18.545490       Jack      Davis   \n",
      "9999         4  2024-04-21 06:53:23.600878      Sarah     Kelley   \n",
      "\n",
      "                         email                  phone  \\\n",
      "0          hhurley@example.net   +1-365-713-6186x5069   \n",
      "1           mmason@example.org          (788)246-1642   \n",
      "2         robert63@example.com           709-632-4312   \n",
      "3       clintonkim@example.org   +1-333-629-7447x1240   \n",
      "4          chase60@example.com     353-381-9405x98812   \n",
      "...                        ...                    ...   \n",
      "9995    danielluna@example.com    +1-893-914-8871x657   \n",
      "9996     jhamilton@example.org           456-454-9260   \n",
      "9997         udiaz@example.com          (376)436-0996   \n",
      "9998  johnstonjohn@example.net  001-516-284-7772x3692   \n",
      "9999     xwilliams@example.net   001-826-619-0624x692   \n",
      "\n",
      "                                                address product_name   price  \\\n",
      "0                      Unit 8422 Box 6078\\nDPO AE 20691    authority   22.87   \n",
      "1             6104 Griffith Pike\\nDanielville, MI 07928      soldier  852.56   \n",
      "2                      Unit 6320 Box 0624\\nDPO AP 43086     possible  986.00   \n",
      "3     02902 Howe Court Apt. 079\\nLake Jocelynland, A...       likely  831.84   \n",
      "4                 1954 Carly Pass\\nCarneystad, MT 70245     yourself   21.75   \n",
      "...                                                 ...          ...     ...   \n",
      "9995                   Unit 5495 Box 8071\\nDPO AA 93823      perhaps  906.58   \n",
      "9996             668 Johnson Trail\\nWest John, OH 28746    authority   22.87   \n",
      "9997  84336 Schneider Fords Apt. 522\\nDylanville, VT...          say  205.72   \n",
      "9998                   Unit 2717 Box 8747\\nDPO AA 21086       enough  523.71   \n",
      "9999  6575 Gutierrez Ports Suite 025\\nPort Eric, AS ...         side  932.30   \n",
      "\n",
      "      stock                                       destionation  \\\n",
      "0        21                           USNV Baker\\nFPO AE 53066   \n",
      "1        30   568 Mitchell Gardens\\nEast Stephenfort, OH 90061   \n",
      "2        35        187 Martin Orchard\\nChristinaberg, CO 71134   \n",
      "3        18           703 Connor Pike\\nNew Alexandra, KY 34116   \n",
      "4        11  250 Courtney Summit Apt. 430\\nCaseymouth, NC 5...   \n",
      "...     ...                                                ...   \n",
      "9995     12              9228 Ray Plains\\nSusanshire, NM 35315   \n",
      "9996     21                8756 James Port\\nLanceton, MA 62995   \n",
      "9997     11          21580 Smith Mission\\nPort Brian, MH 72405   \n",
      "9998     25     30592 Phillips Route\\nWest Edgarfort, NJ 05850   \n",
      "9999     57            995 Rita Plains\\nWest Marilyn, IN 77967   \n",
      "\n",
      "                   shipping_date               delivery_date  \\\n",
      "0     2024-05-20 13:25:41.511600  2024-02-19 01:02:04.687795   \n",
      "1     2024-05-23 02:07:22.883137  2024-04-16 15:25:32.782564   \n",
      "2     2024-08-06 18:48:07.141287  2024-06-23 01:28:49.851552   \n",
      "3     2024-07-27 23:29:32.062767  2024-06-10 13:00:17.243365   \n",
      "4     2024-01-17 15:53:27.874775  2024-05-09 22:15:13.075956   \n",
      "...                          ...                         ...   \n",
      "9995  2024-03-28 09:23:13.801599  2024-04-27 11:36:17.341237   \n",
      "9996  2024-05-30 08:02:28.051878  2024-07-10 14:54:12.858840   \n",
      "9997  2024-01-16 08:30:04.351576  2024-08-31 10:06:47.218321   \n",
      "9998  2024-01-19 14:15:30.319809  2024-04-21 03:37:29.269642   \n",
      "9999  2024-06-04 11:03:06.266468  2024-07-13 00:59:08.607656   \n",
      "\n",
      "                    payment_date  amount payment_method  \\\n",
      "0     2024-08-19 12:38:10.627685  823.78    Credit Card   \n",
      "1     2024-02-13 18:51:40.460318  586.06  Bank Transfer   \n",
      "2     2024-06-08 13:21:15.496237  555.60  Bank Transfer   \n",
      "3     2024-08-19 12:38:10.627685  823.78    Credit Card   \n",
      "4     2024-09-08 01:47:45.580722  658.68  Bank Transfer   \n",
      "...                          ...     ...            ...   \n",
      "9995  2024-05-19 15:30:16.208232  769.58         PayPal   \n",
      "9996  2024-02-03 07:23:47.374910  138.41         PayPal   \n",
      "9997  2024-05-24 22:07:13.429358  862.24  Bank Transfer   \n",
      "9998  2024-01-02 00:52:35.276215  379.96  Bank Transfer   \n",
      "9999  2024-05-19 15:30:16.208232  769.58         PayPal   \n",
      "\n",
      "                     return_date  \\\n",
      "0     2024-04-22 05:45:33.551837   \n",
      "1     2024-03-15 13:00:04.832162   \n",
      "2     2024-03-03 10:09:28.875991   \n",
      "3     2024-03-11 10:03:50.511798   \n",
      "4     2024-07-12 04:58:49.199651   \n",
      "...                          ...   \n",
      "9995  2024-05-05 03:59:51.307426   \n",
      "9996  2024-05-23 17:54:49.829551   \n",
      "9997  2024-06-21 02:01:42.867418   \n",
      "9998  2024-08-15 07:42:43.436493   \n",
      "9999  2024-03-15 13:00:04.832162   \n",
      "\n",
      "                                                 reason         status  \n",
      "0                      Morning morning nation building.  Not Requested  \n",
      "1                               Pay couple whether see.       Approved  \n",
      "2                               Piece wife PM six what.  Not Requested  \n",
      "3        Upon smile water work billion language manage.  Not Requested  \n",
      "4                      Car ball language kind election.        Pending  \n",
      "...                                                 ...            ...  \n",
      "9995  Put painting statement might usually others sp...        Pending  \n",
      "9996  Trip figure property close record nearly current.  Not Requested  \n",
      "9997                     Either girl writer radio term.  Not Requested  \n",
      "9998  Shoulder someone open close human can yeah total.  Not Requested  \n",
      "9999                            Pay couple whether see.       Approved  \n",
      "\n",
      "[10000 rows x 19 columns]\n"
     ]
    }
   ],
   "source": [
    "df_transactions = (\n",
    "    df_order\n",
    "    .merge(df_customer, on='customer_id', how='left')\n",
    "    .merge(df_product, on='product_id', how='left')\n",
    "    .merge(df_shipping, on='shipping_id', how='left')\n",
    "    .merge(df_payment, on='payment_id', how='left')\n",
    "    .merge(df_return, on='return_id', how='left')\n",
    ")\n",
    "df_transactions = df_transactions.drop(\n",
    "    columns=['order_id', 'customer_id', 'product_id', 'payment_id', 'return_id','shipping_id']\n",
    ")\n",
    "print(df_transactions)"
   ]
  },
  {
   "cell_type": "code",
   "execution_count": null,
   "id": "6a2734af-8f31-400a-8f8b-f971ddc8d773",
   "metadata": {},
   "outputs": [],
   "source": []
  }
 ],
 "metadata": {
  "kernelspec": {
   "display_name": "Python 3 (ipykernel)",
   "language": "python",
   "name": "python3"
  },
  "language_info": {
   "codemirror_mode": {
    "name": "ipython",
    "version": 3
   },
   "file_extension": ".py",
   "mimetype": "text/x-python",
   "name": "python",
   "nbconvert_exporter": "python",
   "pygments_lexer": "ipython3",
   "version": "3.10.10"
  }
 },
 "nbformat": 4,
 "nbformat_minor": 5
}
